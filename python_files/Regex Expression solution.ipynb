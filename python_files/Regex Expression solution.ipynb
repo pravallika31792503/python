{
 "cells": [
  {
   "cell_type": "code",
   "execution_count": 1,
   "id": "b6e694dd",
   "metadata": {},
   "outputs": [
    {
     "name": "stdout",
     "output_type": "stream",
     "text": [
      "['cat']\n"
     ]
    }
   ],
   "source": [
    "#Write the regular expression and use proper method which gives output as:- 'cat' in str.\n",
    "import re\n",
    "str = 'cat mat bat rat'\n",
    "pattern=re.compile(r'\\bcat')\n",
    "match=pattern.findall(str)\n",
    "\n",
    "print(match) "
   ]
  },
  {
   "cell_type": "code",
   "execution_count": 2,
   "id": "a7baca34",
   "metadata": {},
   "outputs": [
    {
     "name": "stdout",
     "output_type": "stream",
     "text": [
      "['rat']\n"
     ]
    }
   ],
   "source": [
    "#Write the regular expression and use proper method which gives output as:- 'rat' in str.\n",
    "import re\n",
    "str = 'cat mat bat rat'\n",
    "pattern=re.compile(r'\\brat')\n",
    "match=pattern.findall(str)\n",
    "\n",
    "print(match) "
   ]
  },
  {
   "cell_type": "code",
   "execution_count": 10,
   "id": "95a7e47c",
   "metadata": {},
   "outputs": [
    {
     "name": "stdout",
     "output_type": "stream",
     "text": [
      "<re.Match object; span=(4, 7), match='mat'>\n",
      "<re.Match object; span=(16, 19), match='man'>\n"
     ]
    }
   ],
   "source": [
    "#Write the regular expression and use proper method which gives output as:- ['mat', 'man'] in str.\n",
    "import re\n",
    "str = 'cat mat bat rat man'\n",
    "pattern=re.compile(r'ma(t|n)')\n",
    "match=pattern.finditer(str)\n",
    "for i in match:\n",
    "    print(i)"
   ]
  },
  {
   "cell_type": "code",
   "execution_count": 11,
   "id": "bc0176f8",
   "metadata": {},
   "outputs": [
    {
     "name": "stdout",
     "output_type": "stream",
     "text": [
      "[\"Python's\", 'Programming:', 'is', 'very', 'easy', 'to', 'learn']\n"
     ]
    }
   ],
   "source": [
    "#Write the regular expression and use proper method which gives output as:- \n",
    "#['Python', 's', 'Programming', 'is', 'very', 'easy', 'to', 'learn'] in str.\n",
    "import re\n",
    "str = \"Python's Programming: is very easy to learn\"\n",
    "x = re.split(\" \",str)\n",
    "print(x)"
   ]
  },
  {
   "cell_type": "code",
   "execution_count": 24,
   "id": "223fe4f3",
   "metadata": {},
   "outputs": [
    {
     "name": "stdout",
     "output_type": "stream",
     "text": [
      "<re.Match object; span=(0, 5), match='peter'>\n",
      "<re.Match object; span=(8, 11), match='per'>\n",
      "<re.Match object; span=(12, 18), match='picked'>\n",
      "<re.Match object; span=(21, 25), match='peck'>\n",
      "<re.Match object; span=(29, 36), match='pickled'>\n",
      "<re.Match object; span=(37, 44), match='peppers'>\n"
     ]
    }
   ],
   "source": [
    "#Write the regular expression and use proper method which Retrieves all words starting with p.\n",
    "#Output:- ['peter', 'per', 'picked', 'peck', 'pickled', 'peppers']\n",
    "import re\n",
    "str = \"peter giper picked a peck of pickled peppers\"\n",
    "pattern=re.compile(r'[p]\\w+')\n",
    "match=pattern.finditer(str)\n",
    "for i in match:\n",
    "    print(i)"
   ]
  },
  {
   "cell_type": "code",
   "execution_count": 27,
   "id": "8b68b131",
   "metadata": {},
   "outputs": [
    {
     "name": "stdout",
     "output_type": "stream",
     "text": [
      "<re.Match object; span=(0, 5), match='peter'>\n",
      "<re.Match object; span=(12, 18), match='picked'>\n",
      "<re.Match object; span=(21, 25), match='peck'>\n",
      "<re.Match object; span=(29, 36), match='pickled'>\n",
      "<re.Match object; span=(37, 44), match='peppers'>\n"
     ]
    }
   ],
   "source": [
    "#Write the regular expression and use proper method which Retrieves all words starting with p except 'per' which is not a separate word.\n",
    "#Output:- ['peter', 'picked', 'peck', 'pickled', 'peppers']\n",
    "import re\n",
    "str = \"peter giper picked a peck of pickled peppers\"\n",
    "pattern=re.compile(r'\\b[p]\\w+')\n",
    "match=pattern.finditer(str)\n",
    "for i in match:\n",
    "    print(i)\n"
   ]
  },
  {
   "cell_type": "code",
   "execution_count": 35,
   "id": "17b50ca4",
   "metadata": {},
   "outputs": [
    {
     "name": "stdout",
     "output_type": "stream",
     "text": [
      "['8th', '11th']\n"
     ]
    }
   ],
   "source": [
    "#Write the regular expression and use proper method which Retrieves all words starting with a digit.\n",
    "#Output:- ['8th', '11th']\n",
    "import re\n",
    "str = 'The election in delhi will be held on 8th and result for the same will be declared on 11th'\n",
    "array = re.compile(r'[0-9]+th')\n",
    "find=array.findall(str)\n",
    "print(find)"
   ]
  },
  {
   "cell_type": "code",
   "execution_count": 45,
   "id": "72c73178",
   "metadata": {},
   "outputs": [
    {
     "data": {
      "text/plain": [
       "['peter', 'giper']"
      ]
     },
     "execution_count": 45,
     "metadata": {},
     "output_type": "execute_result"
    }
   ],
   "source": [
    "#Write the regular expression and use proper method which Retrieves all words having 5 characters.\n",
    "#Output:- ['peter', 'giper']\n",
    "import re\n",
    "str = \"peter giper picked a peck of pickled peppers\"\n",
    "pattern=re.compile(r'\\b\\w\\w\\w\\w\\w\\b')\n",
    "match=pattern.findall(str)\n",
    "\n",
    "match\n"
   ]
  },
  {
   "cell_type": "code",
   "execution_count": 48,
   "id": "fb216bea",
   "metadata": {},
   "outputs": [
    {
     "data": {
      "text/plain": [
       "['Retrieving', 'words', 'having', 'least', 'characters']"
      ]
     },
     "execution_count": 48,
     "metadata": {},
     "output_type": "execute_result"
    }
   ],
   "source": [
    "#Write the regular expression and use proper method which Retrieves all words having at least 4 characters.\n",
    "#Output:- ['Retrieving',  'words', 'having', 'least', 'characters']\n",
    "import re\n",
    "str = \"Retrieving all words having at least 4 characters\"\n",
    "pattern=re.compile(r'\\b\\w{4,}\\b')\n",
    "match=pattern.findall(str)\n",
    "\n",
    "match\n"
   ]
  },
  {
   "cell_type": "code",
   "execution_count": 49,
   "id": "849c3ed5",
   "metadata": {},
   "outputs": [
    {
     "data": {
      "text/plain": [
       "['all', 'words', 'least']"
      ]
     },
     "execution_count": 49,
     "metadata": {},
     "output_type": "execute_result"
    }
   ],
   "source": [
    "#Write the regular expression and use proper method which Retrieves all words having at characters between 3 to 5 words.\n",
    "#Output:- ['all', 'words', 'least']\n",
    "import re\n",
    "str = \"Retrieving all words having at least 4 characters\"\n",
    "pattern=re.compile(r'\\b\\w{3,5}\\b')\n",
    "match=pattern.findall(str)\n",
    "\n",
    "match"
   ]
  },
  {
   "cell_type": "code",
   "execution_count": 50,
   "id": "fb39f870",
   "metadata": {},
   "outputs": [
    {
     "name": "stdout",
     "output_type": "stream",
     "text": [
      "['8', '11']\n"
     ]
    }
   ],
   "source": [
    "#Write the regular expression and use proper method which Retrieves only digits from the string.\n",
    "#Output:- ['8', '11']\n",
    "import re\n",
    "str = 'The election in delhi will be held on 8 and result for the same will be declared on 11'\n",
    "array = re.compile(r'[0-9]+')\n",
    "find=array.findall(str)\n",
    "print(find)"
   ]
  },
  {
   "cell_type": "code",
   "execution_count": 51,
   "id": "eb0f7c01",
   "metadata": {},
   "outputs": [
    {
     "data": {
      "text/plain": [
       "['characters']"
      ]
     },
     "execution_count": 51,
     "metadata": {},
     "output_type": "execute_result"
    }
   ],
   "source": [
    "#Write the regular expression and use proper method which Retrieves last word if starts with c from the given string.\n",
    "#Output:- ['characters']\n",
    "import re\n",
    "str = \"Retrieving all words having at least 4 characters\"\n",
    "pattern=re.compile(r'\\bc[a-z]+')\n",
    "match=pattern.findall(str)\n",
    "\n",
    "match"
   ]
  },
  {
   "cell_type": "code",
   "execution_count": 52,
   "id": "a1df906a",
   "metadata": {},
   "outputs": [
    {
     "data": {
      "text/plain": [
       "['1234567890']"
      ]
     },
     "execution_count": 52,
     "metadata": {},
     "output_type": "execute_result"
    }
   ],
   "source": [
    "#Write the regular expression and use proper method which Retrieves a phone number from the given string.\n",
    "#Output:- 1234567890\n",
    "import re\n",
    "str = \"Learnbay : 1234567890\"\n",
    "pattern=re.compile(r'\\d{10}')\n",
    "match=pattern.findall(str)\n",
    "\n",
    "match"
   ]
  },
  {
   "cell_type": "code",
   "execution_count": 54,
   "id": "e3bcffa0",
   "metadata": {},
   "outputs": [
    {
     "data": {
      "text/plain": [
       "['Learnbay']"
      ]
     },
     "execution_count": 54,
     "metadata": {},
     "output_type": "execute_result"
    }
   ],
   "source": [
    "##Write the regular expression and use proper method which Etracts name from the string but not number.\n",
    "#Output:- Learnbay : \n",
    "import re\n",
    "str = \"Learnbay : 1234567890\"\n",
    "pattern=re.compile(r'\\b[A-Z][a-z]+')\n",
    "match=pattern.findall(str)\n",
    "\n",
    "match"
   ]
  },
  {
   "cell_type": "code",
   "execution_count": 61,
   "id": "4c46a9cc",
   "metadata": {},
   "outputs": [
    {
     "name": "stdout",
     "output_type": "stream",
     "text": [
      "<re.Match object; span=(0, 4), match='anil'>\n",
      "<re.Match object; span=(5, 10), match='akhil'>\n",
      "<re.Match object; span=(11, 16), match='anant'>\n",
      "<re.Match object; span=(51, 56), match='ankur'>\n"
     ]
    }
   ],
   "source": [
    "##Write the regular expression and use proper method which Retrieves name starting with 'an' or 'ak'.\n",
    "#Output:- ['anil', 'akhil', 'anant', 'ankur']\n",
    "import re\n",
    "str = 'anil akhil anant abhi arun arati arundhati abhijit ankur'\n",
    "pattern=re.compile(r'\\b(an|ak)[a-z]+\\b')\n",
    "match=pattern.finditer(str)\n",
    "\n",
    "for i in match:\n",
    "    print(i)"
   ]
  },
  {
   "cell_type": "code",
   "execution_count": null,
   "id": "d9981e4f",
   "metadata": {},
   "outputs": [],
   "source": []
  }
 ],
 "metadata": {
  "kernelspec": {
   "display_name": "Python 3 (ipykernel)",
   "language": "python",
   "name": "python3"
  },
  "language_info": {
   "codemirror_mode": {
    "name": "ipython",
    "version": 3
   },
   "file_extension": ".py",
   "mimetype": "text/x-python",
   "name": "python",
   "nbconvert_exporter": "python",
   "pygments_lexer": "ipython3",
   "version": "3.9.13"
  }
 },
 "nbformat": 4,
 "nbformat_minor": 5
}
