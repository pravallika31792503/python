{
 "cells": [
  {
   "cell_type": "code",
   "execution_count": 4,
   "id": "ae1d7c38",
   "metadata": {},
   "outputs": [
    {
     "data": {
      "text/plain": [
       "[3, 6, 9]"
      ]
     },
     "execution_count": 4,
     "metadata": {},
     "output_type": "execute_result"
    }
   ],
   "source": [
    "list_map=[1,2,3]\n",
    "list(map((lambda x:x+x+x),list_map))"
   ]
  },
  {
   "cell_type": "code",
   "execution_count": 5,
   "id": "12c19f6b",
   "metadata": {},
   "outputs": [
    {
     "data": {
      "text/plain": [
       "[12, 15, 18]"
      ]
     },
     "execution_count": 5,
     "metadata": {},
     "output_type": "execute_result"
    }
   ],
   "source": [
    "num1=[1,2,3]\n",
    "num2=[4,5,6]\n",
    "num3=[7,8,9]\n",
    "list(map(lambda x, y, z: x + y + z, num1, num2, num3))"
   ]
  },
  {
   "cell_type": "code",
   "execution_count": 8,
   "id": "fb0bb738",
   "metadata": {},
   "outputs": [
    {
     "data": {
      "text/plain": [
       "[6, 4, -4, 2]"
      ]
     },
     "execution_count": 8,
     "metadata": {},
     "output_type": "execute_result"
    }
   ],
   "source": [
    "nums1 = [6, 5, 3, 9]\n",
    "nums2 = [0, 1, 7, 7]\n",
    "list(map(lambda i, j: i - j, nums1, nums2))"
   ]
  },
  {
   "cell_type": "code",
   "execution_count": 9,
   "id": "34469727",
   "metadata": {},
   "outputs": [
    {
     "name": "stdout",
     "output_type": "stream",
     "text": [
      "{('E', 'e'), ('O', 'o'), ('F', 'f'), ('A', 'a'), ('I', 'i'), ('U', 'u'), ('B', 'b')}\n"
     ]
    }
   ],
   "source": [
    "chrars = {'a', 'b', 'E', 'f', 'a', 'i', 'o', 'U', 'a'}\n",
    "def change_cases(s):\n",
    "  return str(s).upper(), str(s).lower()\n",
    "result = map(change_cases, chrars)\n",
    "print(set(result))"
   ]
  },
  {
   "cell_type": "code",
   "execution_count": 11,
   "id": "dd228a94",
   "metadata": {},
   "outputs": [
    {
     "data": {
      "text/plain": [
       "['Amla', 'Account']"
      ]
     },
     "execution_count": 11,
     "metadata": {},
     "output_type": "execute_result"
    }
   ],
   "source": [
    "lis=['Amla','Account','Bat']\n",
    "list(filter(lambda x: x.startswith('A'),lis))"
   ]
  },
  {
   "cell_type": "code",
   "execution_count": 13,
   "id": "8bdd59dc",
   "metadata": {},
   "outputs": [
    {
     "data": {
      "text/plain": [
       "[1, 2, 8]"
      ]
     },
     "execution_count": 13,
     "metadata": {},
     "output_type": "execute_result"
    }
   ],
   "source": [
    "lis_num=[1,-1,2,-10,8,-55]\n",
    "list(filter((lambda k:k>0),lis_num))"
   ]
  },
  {
   "cell_type": "code",
   "execution_count": 17,
   "id": "14a60a80",
   "metadata": {},
   "outputs": [
    {
     "data": {
      "text/plain": [
       "[3, 10, 12]"
      ]
     },
     "execution_count": 17,
     "metadata": {},
     "output_type": "execute_result"
    }
   ],
   "source": [
    "lis_mul=[3,7,10,12]\n",
    "list(filter((lambda x:(x%3==0)or(x%5==0)),lis_mul))"
   ]
  },
  {
   "cell_type": "code",
   "execution_count": 19,
   "id": "5bf515bb",
   "metadata": {},
   "outputs": [
    {
     "data": {
      "text/plain": [
       "'python'"
      ]
     },
     "execution_count": 19,
     "metadata": {},
     "output_type": "execute_result"
    }
   ],
   "source": [
    "from functools import reduce\n",
    "lis_str=['python','java','c']\n",
    "reduce((lambda x,y: x if len(x)>len(y) else y),lis_str)"
   ]
  },
  {
   "cell_type": "code",
   "execution_count": 25,
   "id": "8ed833f0",
   "metadata": {},
   "outputs": [
    {
     "name": "stdout",
     "output_type": "stream",
     "text": [
      "2.0\n",
      "3\n",
      "1\n"
     ]
    }
   ],
   "source": [
    "lis_no=[1,2,3]\n",
    "avg = reduce((lambda x,y: x+y),lis_no)/len(lis_no)\n",
    "max=reduce((lambda x,y: x if x>y else y),lis_no)\n",
    "min=reduce((lambda x,y: x if x<y else y),lis_no)\n",
    "print(avg)\n",
    "print(max)\n",
    "print(min)\n"
   ]
  },
  {
   "cell_type": "code",
   "execution_count": null,
   "id": "b70b7ac8",
   "metadata": {},
   "outputs": [],
   "source": []
  }
 ],
 "metadata": {
  "kernelspec": {
   "display_name": "Python 3 (ipykernel)",
   "language": "python",
   "name": "python3"
  },
  "language_info": {
   "codemirror_mode": {
    "name": "ipython",
    "version": 3
   },
   "file_extension": ".py",
   "mimetype": "text/x-python",
   "name": "python",
   "nbconvert_exporter": "python",
   "pygments_lexer": "ipython3",
   "version": "3.9.13"
  }
 },
 "nbformat": 4,
 "nbformat_minor": 5
}
